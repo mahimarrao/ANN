{
 "cells": [
  {
   "cell_type": "code",
   "execution_count": null,
   "id": "f6dcee40",
   "metadata": {},
   "outputs": [],
   "source": [
    "import os \n",
    "import time\n",
    "import subprocess\n",
    "import json"
   ]
  },
  {
   "cell_type": "code",
   "execution_count": null,
   "id": "5f9718be",
   "metadata": {},
   "outputs": [],
   "source": [
    "import wolframalpha\n",
    "import requests \n",
    "import webbrowser\n",
    "import wikipedia\n",
    "import datetime\n",
    "import speech_recognition as sr\n",
    "import pyttsx3"
   ]
  },
  {
   "cell_type": "code",
   "execution_count": null,
   "id": "e6f2d754",
   "metadata": {},
   "outputs": [],
   "source": [
    "print(\"Loading your personal assistant\")"
   ]
  },
  {
   "cell_type": "code",
   "execution_count": null,
   "id": "c7d46e22",
   "metadata": {},
   "outputs": [],
   "source": [
    "engine = pyttsx3.init('sapi5')\n",
    "voices  = engine.getProperty('voices')\n",
    "engine.setProperty(\"voice\",voices[0].id)"
   ]
  },
  {
   "cell_type": "code",
   "execution_count": null,
   "id": "f2e89f86",
   "metadata": {},
   "outputs": [],
   "source": [
    "def speak(text):\n",
    "    engine.say(text)\n",
    "    engine.runAndWait()"
   ]
  },
  {
   "cell_type": "code",
   "execution_count": null,
   "id": "16e4cd31",
   "metadata": {},
   "outputs": [],
   "source": [
    "def wishMe():\n",
    "    hour = datetime.datetime.now().hour\n",
    "    if hour >=0 and hour <12:\n",
    "        speak(\"Hello , good morning \")\n",
    "        print(\"Hello , good morning \")\n",
    "    elif hour >=12 and hour <=18:\n",
    "        speak (\"Hello , Good afternoon\")\n",
    "        print(\"Hello , Good afternoon\")\n",
    "    else:\n",
    "        speak(\"its night , whats your opinion \")\n",
    "        print(\"its night , whats your opinion \")"
   ]
  },
  {
   "cell_type": "code",
   "execution_count": null,
   "id": "cfd67694",
   "metadata": {},
   "outputs": [],
   "source": [
    "def takeCommand():\n",
    "    r = sr.Recognizer()\n",
    "    with sr.Microphone() as source :\n",
    "        print(\"I am listening\")\n",
    "        audio = r.listen(source)\n",
    "        \n",
    "        try :\n",
    "            statement = r.recognize_google(audio,language='en-in')\n",
    "            print(\"user said:{statement}\\n\")\n",
    "            \n",
    "        except Exception as e:\n",
    "            speak(\"pardon me , please say that again\")\n",
    "            return \"None\"\n",
    "        return statement "
   ]
  },
  {
   "cell_type": "code",
   "execution_count": null,
   "id": "2f64ed61",
   "metadata": {},
   "outputs": [],
   "source": [
    "speak(\"Loading your personal assistant\")\n",
    "wishMe()"
   ]
  },
  {
   "cell_type": "code",
   "execution_count": null,
   "id": "6399016e",
   "metadata": {},
   "outputs": [],
   "source": [
    "if __name__ == '__main__':\n",
    "    while True:\n",
    "        speak(\" Tell me ,How can i halp you now ... ?\")\n",
    "        statement = takeCommand().lower()\n",
    "        if statement == 0:\n",
    "            continue \n",
    "        if \"goog bye\" in statement or \"ok bye\"in statement or \"stop\" in statement :\n",
    "            speak(\"Your personal AI assistant is shutting down,good bye\")\n",
    "            print(\"Your personal AI assistant is shutting down,good bye\")\n",
    "            break\n",
    "        if \"wikipedia\" in statement :\n",
    "            speak(\"search wikipedia ...\")\n",
    "            statement = statement.replace(\"wikipedia\",\" \")\n",
    "            results = wikipedia.summary(statement , sentences = 3)\n",
    "            speak(\" According the wikipesdia ...\")\n",
    "            print(results)\n",
    "            speak(results)\n",
    "            \n",
    "        elif \"open youtube\" in statement :\n",
    "            webbrowser.open_new_tab(\"https://www.youtube.com\")\n",
    "            speak(\"youtube is open for you\")\n",
    "            time.sleep(5)\n",
    "            \n",
    "        elif \"open google\" in statement :\n",
    "            webbrowser.open_new_tab(\"https://www.google.com\")\n",
    "            speak(\"Google search is open for you\")\n",
    "            time.sleep(5)\n",
    "            \n",
    "        elif \"open gmail\" in statement:\n",
    "            webbrowser.open_new_tab(\"https://www.gmail.com\")\n",
    "            speak(\"Gamil is open for you\")\n",
    "            time.sleep(5)\n",
    "            \n",
    "        elif \"weather\" in statement :  # open weather map\n",
    "            api_key = \"8ef61edcf1c576d65d836254e11ea420\"\n",
    "            base_url = \"https://api.openweathermap.org/data/2.5/weather?\"\n",
    "            speak(\"whats the city name\")\n",
    "            city_name = takeCommand()\n",
    "            complete_url = base_url +\"appid = \"+api_key+\"&q\"+city_name\n",
    "            response = request.get(complete_url)\n",
    "            x = response.json()\n",
    "            if x[\"cod\"] != \"404\":\n",
    "                y = x[\"main\"]\n",
    "                current_temp = y[\"temp\"]\n",
    "                current_humidity = y[\"humidity\"]\n",
    "                z = x[\"weather\"]\n",
    "                weather_description = z[0][\"weather_description\"]\n",
    "                speak(\"the temperature in kelvin \" + str(current_temp)+ \"\\n humidity in percentage is \" + str(current_humidity) + \"\\n weather description \" + str(weather_description))\n",
    "                print(\"the temperature in kelvin \" + str(current_temp)+ \"\\n humidity in percentage is \" + str(current_humidity) + \"\\n weather description \" + str(weather_description))\n",
    "                \n",
    "            else:\n",
    "                print(\"city not found\")\n",
    "                speak(\"city not found\")\n",
    "        \n",
    "        elif \"time \" in statement :\n",
    "            strtime = datetime.datetime.now().strftime(\"%H:%M:%S\")\n",
    "            speak(\"the time is {strtime}\")\n",
    "            \n",
    "        elif \"who are u \" in statement or \" what can u do \" in statement :\n",
    "            speak(\"Just Explore\")\n",
    "            \n",
    "        elif \"who made you\" in statement or \"who created you\" in statement:\n",
    "            speak(\"I was develpoed by a human in 21st century \")\n",
    "            print(\"I was develpoed by a human in 21st century \")\n",
    "        \n",
    "        elif \"open stackover flow\" in statement :\n",
    "            webbrowser.open_new_tab(\"https://stackoverflow.com/login\")\n",
    "            time.sleep(5)\n",
    "            \n",
    "        elif \"news\" in statement :\n",
    "            news = webbrowser.open_new_tab(\"https://timesofindia.com/home/headlines\")\n",
    "            speak(\"here are some headlines for you \")\n",
    "            time.sleep(7)\n",
    "            \n",
    "        elif \"search\" in statement :\n",
    "            statemnt  = statement.replace(\"search\",\" \")\n",
    "            webbrowser.open_new_tab(\"statemnt\")\n",
    "            time.sleep(5)\n",
    "            \n",
    "        elif \"ask\" in statement :\n",
    "            speak(\"i can answer to mathematical and geographical qurtions\")\n",
    "            quetion = takeCommand()\n",
    "            app_id = \"R2K75H-7ELALHR35X\"\n",
    "            client = wolframalpha.Client(\"R2K75H-7ELALHR35X\")\n",
    "            res = client.query(quetion)\n",
    "            answer = next(res.results).text\n",
    "            speak(answer)\n",
    "            print(answer)\n",
    "            \n",
    "        elif \"log off\" in statement or \"shut down\" in statement :\n",
    "            sprak(\"okay , your pc will shut down in 10 sec -- are you sure you want to \")\n",
    "            subprocess.call([\"shutdown\",\"/1\"])\n",
    "            \n",
    "time.sleep(5)\n",
    "#main()"
   ]
  },
  {
   "cell_type": "code",
   "execution_count": null,
   "id": "f2664a17",
   "metadata": {},
   "outputs": [],
   "source": []
  }
 ],
 "metadata": {
  "kernelspec": {
   "display_name": "Python 3",
   "language": "python",
   "name": "python3"
  },
  "language_info": {
   "codemirror_mode": {
    "name": "ipython",
    "version": 3
   },
   "file_extension": ".py",
   "mimetype": "text/x-python",
   "name": "python",
   "nbconvert_exporter": "python",
   "pygments_lexer": "ipython3",
   "version": "3.7.10"
  }
 },
 "nbformat": 4,
 "nbformat_minor": 5
}
